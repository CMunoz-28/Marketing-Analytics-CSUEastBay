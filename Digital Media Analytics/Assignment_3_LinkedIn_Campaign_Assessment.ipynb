{
  "nbformat": 4,
  "nbformat_minor": 0,
  "metadata": {
    "colab": {
      "provenance": []
    },
    "kernelspec": {
      "name": "python3",
      "display_name": "Python 3"
    },
    "language_info": {
      "name": "python"
    }
  },
  "cells": [
    {
      "cell_type": "markdown",
      "source": [
        "# Assignment 3: LinkedIn Campaign Assessment\n",
        "\n",
        "### Objective\n",
        "\n",
        "* An advertising agency has completed a campaign on LinkedIn for a customer in high-value services industry.\n",
        "\n",
        "* The campaign has utilized two placements: **(1) In-feed & (2) Messages**\n",
        "\n",
        "* Students are tasked with assessing the campaign’s effectiveness to compare these\n",
        "channels and prepare recommendations for optimizing the campaign.\n",
        "\n",
        "#### Dataset: Provided by Professor [Ivan Fedorenko](https://www.csueastbay.edu/directory/profiles/mktg/fedorenkoivan.html) | Digital Media Analytics - California State University, East Bay\n"
      ],
      "metadata": {
        "id": "D7MEPcbgeliI"
      }
    },
    {
      "cell_type": "markdown",
      "source": [
        "### Calculate and apply the following metrics:\n",
        "* Impressions & CPM for building Awareness\n",
        "* Clicks, CTR & CPC for Interest / Consideration\n",
        "* Leads, CR & CPA for Action / Conversion"
      ],
      "metadata": {
        "id": "erAdbWEe3wc6"
      }
    },
    {
      "cell_type": "code",
      "source": [
        "%cd /content/drive/MyDrive/Assignments/Digital Media Analytics/Assignments"
      ],
      "metadata": {
        "colab": {
          "base_uri": "https://localhost:8080/"
        },
        "id": "xXujllVum_gs",
        "outputId": "ba34441e-54a6-40ff-ae24-2abaf95b065f"
      },
      "execution_count": 2,
      "outputs": [
        {
          "output_type": "stream",
          "name": "stdout",
          "text": [
            "/content/drive/MyDrive/Assignments/Digital Media Analytics/Assignments\n"
          ]
        }
      ]
    },
    {
      "cell_type": "code",
      "source": [
        "# Install needed Libraries\n",
        "import pandas as pd\n",
        "import numpy as np\n",
        "import matplotlib.pyplot as plt\n",
        "import seaborn as sns"
      ],
      "metadata": {
        "id": "3In70wC8utdN"
      },
      "execution_count": 3,
      "outputs": []
    },
    {
      "cell_type": "code",
      "source": [
        "#Load the data\n",
        "Linkedin_df = pd.read_csv('Linkedin Ads assessment.xlsx - Sheet1.csv')\n",
        "Linkedin_df.head()"
      ],
      "metadata": {
        "colab": {
          "base_uri": "https://localhost:8080/",
          "height": 143
        },
        "id": "ADa-_WGnm_2V",
        "outputId": "f14d0c84-4de8-4361-cb81-9bef99eb4287"
      },
      "execution_count": 4,
      "outputs": [
        {
          "output_type": "execute_result",
          "data": {
            "text/plain": [
              "           Placement Impressions       Cost, $    CPM, $  Clicks    CTR  \\\n",
              "0       LinkedIn Ads    230,242    $ 15,281.6        NaN    1763    NaN   \n",
              "1  LinkedIn Messages      6,986     $ 4,500.0        NaN    2578    NaN   \n",
              "2              Total    237,228    $ 19,781.6    $ 83.4     4341  1.83%   \n",
              "\n",
              "        CPC  Leads   CR %     CPA, $  \n",
              "0       NaN     52    NaN        NaN  \n",
              "1       NaN      7    NaN        NaN  \n",
              "2   $ 4.56      59  1.36%   $ 335.3   "
            ],
            "text/html": [
              "\n",
              "  <div id=\"df-641882d1-5647-4eb9-a07e-9ec22c9f4313\" class=\"colab-df-container\">\n",
              "    <div>\n",
              "<style scoped>\n",
              "    .dataframe tbody tr th:only-of-type {\n",
              "        vertical-align: middle;\n",
              "    }\n",
              "\n",
              "    .dataframe tbody tr th {\n",
              "        vertical-align: top;\n",
              "    }\n",
              "\n",
              "    .dataframe thead th {\n",
              "        text-align: right;\n",
              "    }\n",
              "</style>\n",
              "<table border=\"1\" class=\"dataframe\">\n",
              "  <thead>\n",
              "    <tr style=\"text-align: right;\">\n",
              "      <th></th>\n",
              "      <th>Placement</th>\n",
              "      <th>Impressions</th>\n",
              "      <th>Cost, $</th>\n",
              "      <th>CPM, $</th>\n",
              "      <th>Clicks</th>\n",
              "      <th>CTR</th>\n",
              "      <th>CPC</th>\n",
              "      <th>Leads</th>\n",
              "      <th>CR %</th>\n",
              "      <th>CPA, $</th>\n",
              "    </tr>\n",
              "  </thead>\n",
              "  <tbody>\n",
              "    <tr>\n",
              "      <th>0</th>\n",
              "      <td>LinkedIn Ads</td>\n",
              "      <td>230,242</td>\n",
              "      <td>$ 15,281.6</td>\n",
              "      <td>NaN</td>\n",
              "      <td>1763</td>\n",
              "      <td>NaN</td>\n",
              "      <td>NaN</td>\n",
              "      <td>52</td>\n",
              "      <td>NaN</td>\n",
              "      <td>NaN</td>\n",
              "    </tr>\n",
              "    <tr>\n",
              "      <th>1</th>\n",
              "      <td>LinkedIn Messages</td>\n",
              "      <td>6,986</td>\n",
              "      <td>$ 4,500.0</td>\n",
              "      <td>NaN</td>\n",
              "      <td>2578</td>\n",
              "      <td>NaN</td>\n",
              "      <td>NaN</td>\n",
              "      <td>7</td>\n",
              "      <td>NaN</td>\n",
              "      <td>NaN</td>\n",
              "    </tr>\n",
              "    <tr>\n",
              "      <th>2</th>\n",
              "      <td>Total</td>\n",
              "      <td>237,228</td>\n",
              "      <td>$ 19,781.6</td>\n",
              "      <td>$ 83.4</td>\n",
              "      <td>4341</td>\n",
              "      <td>1.83%</td>\n",
              "      <td>$ 4.56</td>\n",
              "      <td>59</td>\n",
              "      <td>1.36%</td>\n",
              "      <td>$ 335.3</td>\n",
              "    </tr>\n",
              "  </tbody>\n",
              "</table>\n",
              "</div>\n",
              "    <div class=\"colab-df-buttons\">\n",
              "\n",
              "  <div class=\"colab-df-container\">\n",
              "    <button class=\"colab-df-convert\" onclick=\"convertToInteractive('df-641882d1-5647-4eb9-a07e-9ec22c9f4313')\"\n",
              "            title=\"Convert this dataframe to an interactive table.\"\n",
              "            style=\"display:none;\">\n",
              "\n",
              "  <svg xmlns=\"http://www.w3.org/2000/svg\" height=\"24px\" viewBox=\"0 -960 960 960\">\n",
              "    <path d=\"M120-120v-720h720v720H120Zm60-500h600v-160H180v160Zm220 220h160v-160H400v160Zm0 220h160v-160H400v160ZM180-400h160v-160H180v160Zm440 0h160v-160H620v160ZM180-180h160v-160H180v160Zm440 0h160v-160H620v160Z\"/>\n",
              "  </svg>\n",
              "    </button>\n",
              "\n",
              "  <style>\n",
              "    .colab-df-container {\n",
              "      display:flex;\n",
              "      gap: 12px;\n",
              "    }\n",
              "\n",
              "    .colab-df-convert {\n",
              "      background-color: #E8F0FE;\n",
              "      border: none;\n",
              "      border-radius: 50%;\n",
              "      cursor: pointer;\n",
              "      display: none;\n",
              "      fill: #1967D2;\n",
              "      height: 32px;\n",
              "      padding: 0 0 0 0;\n",
              "      width: 32px;\n",
              "    }\n",
              "\n",
              "    .colab-df-convert:hover {\n",
              "      background-color: #E2EBFA;\n",
              "      box-shadow: 0px 1px 2px rgba(60, 64, 67, 0.3), 0px 1px 3px 1px rgba(60, 64, 67, 0.15);\n",
              "      fill: #174EA6;\n",
              "    }\n",
              "\n",
              "    .colab-df-buttons div {\n",
              "      margin-bottom: 4px;\n",
              "    }\n",
              "\n",
              "    [theme=dark] .colab-df-convert {\n",
              "      background-color: #3B4455;\n",
              "      fill: #D2E3FC;\n",
              "    }\n",
              "\n",
              "    [theme=dark] .colab-df-convert:hover {\n",
              "      background-color: #434B5C;\n",
              "      box-shadow: 0px 1px 3px 1px rgba(0, 0, 0, 0.15);\n",
              "      filter: drop-shadow(0px 1px 2px rgba(0, 0, 0, 0.3));\n",
              "      fill: #FFFFFF;\n",
              "    }\n",
              "  </style>\n",
              "\n",
              "    <script>\n",
              "      const buttonEl =\n",
              "        document.querySelector('#df-641882d1-5647-4eb9-a07e-9ec22c9f4313 button.colab-df-convert');\n",
              "      buttonEl.style.display =\n",
              "        google.colab.kernel.accessAllowed ? 'block' : 'none';\n",
              "\n",
              "      async function convertToInteractive(key) {\n",
              "        const element = document.querySelector('#df-641882d1-5647-4eb9-a07e-9ec22c9f4313');\n",
              "        const dataTable =\n",
              "          await google.colab.kernel.invokeFunction('convertToInteractive',\n",
              "                                                    [key], {});\n",
              "        if (!dataTable) return;\n",
              "\n",
              "        const docLinkHtml = 'Like what you see? Visit the ' +\n",
              "          '<a target=\"_blank\" href=https://colab.research.google.com/notebooks/data_table.ipynb>data table notebook</a>'\n",
              "          + ' to learn more about interactive tables.';\n",
              "        element.innerHTML = '';\n",
              "        dataTable['output_type'] = 'display_data';\n",
              "        await google.colab.output.renderOutput(dataTable, element);\n",
              "        const docLink = document.createElement('div');\n",
              "        docLink.innerHTML = docLinkHtml;\n",
              "        element.appendChild(docLink);\n",
              "      }\n",
              "    </script>\n",
              "  </div>\n",
              "\n",
              "\n",
              "<div id=\"df-febc448a-8941-4ecd-81c3-ae2467ab376d\">\n",
              "  <button class=\"colab-df-quickchart\" onclick=\"quickchart('df-febc448a-8941-4ecd-81c3-ae2467ab376d')\"\n",
              "            title=\"Suggest charts\"\n",
              "            style=\"display:none;\">\n",
              "\n",
              "<svg xmlns=\"http://www.w3.org/2000/svg\" height=\"24px\"viewBox=\"0 0 24 24\"\n",
              "     width=\"24px\">\n",
              "    <g>\n",
              "        <path d=\"M19 3H5c-1.1 0-2 .9-2 2v14c0 1.1.9 2 2 2h14c1.1 0 2-.9 2-2V5c0-1.1-.9-2-2-2zM9 17H7v-7h2v7zm4 0h-2V7h2v10zm4 0h-2v-4h2v4z\"/>\n",
              "    </g>\n",
              "</svg>\n",
              "  </button>\n",
              "\n",
              "<style>\n",
              "  .colab-df-quickchart {\n",
              "      --bg-color: #E8F0FE;\n",
              "      --fill-color: #1967D2;\n",
              "      --hover-bg-color: #E2EBFA;\n",
              "      --hover-fill-color: #174EA6;\n",
              "      --disabled-fill-color: #AAA;\n",
              "      --disabled-bg-color: #DDD;\n",
              "  }\n",
              "\n",
              "  [theme=dark] .colab-df-quickchart {\n",
              "      --bg-color: #3B4455;\n",
              "      --fill-color: #D2E3FC;\n",
              "      --hover-bg-color: #434B5C;\n",
              "      --hover-fill-color: #FFFFFF;\n",
              "      --disabled-bg-color: #3B4455;\n",
              "      --disabled-fill-color: #666;\n",
              "  }\n",
              "\n",
              "  .colab-df-quickchart {\n",
              "    background-color: var(--bg-color);\n",
              "    border: none;\n",
              "    border-radius: 50%;\n",
              "    cursor: pointer;\n",
              "    display: none;\n",
              "    fill: var(--fill-color);\n",
              "    height: 32px;\n",
              "    padding: 0;\n",
              "    width: 32px;\n",
              "  }\n",
              "\n",
              "  .colab-df-quickchart:hover {\n",
              "    background-color: var(--hover-bg-color);\n",
              "    box-shadow: 0 1px 2px rgba(60, 64, 67, 0.3), 0 1px 3px 1px rgba(60, 64, 67, 0.15);\n",
              "    fill: var(--button-hover-fill-color);\n",
              "  }\n",
              "\n",
              "  .colab-df-quickchart-complete:disabled,\n",
              "  .colab-df-quickchart-complete:disabled:hover {\n",
              "    background-color: var(--disabled-bg-color);\n",
              "    fill: var(--disabled-fill-color);\n",
              "    box-shadow: none;\n",
              "  }\n",
              "\n",
              "  .colab-df-spinner {\n",
              "    border: 2px solid var(--fill-color);\n",
              "    border-color: transparent;\n",
              "    border-bottom-color: var(--fill-color);\n",
              "    animation:\n",
              "      spin 1s steps(1) infinite;\n",
              "  }\n",
              "\n",
              "  @keyframes spin {\n",
              "    0% {\n",
              "      border-color: transparent;\n",
              "      border-bottom-color: var(--fill-color);\n",
              "      border-left-color: var(--fill-color);\n",
              "    }\n",
              "    20% {\n",
              "      border-color: transparent;\n",
              "      border-left-color: var(--fill-color);\n",
              "      border-top-color: var(--fill-color);\n",
              "    }\n",
              "    30% {\n",
              "      border-color: transparent;\n",
              "      border-left-color: var(--fill-color);\n",
              "      border-top-color: var(--fill-color);\n",
              "      border-right-color: var(--fill-color);\n",
              "    }\n",
              "    40% {\n",
              "      border-color: transparent;\n",
              "      border-right-color: var(--fill-color);\n",
              "      border-top-color: var(--fill-color);\n",
              "    }\n",
              "    60% {\n",
              "      border-color: transparent;\n",
              "      border-right-color: var(--fill-color);\n",
              "    }\n",
              "    80% {\n",
              "      border-color: transparent;\n",
              "      border-right-color: var(--fill-color);\n",
              "      border-bottom-color: var(--fill-color);\n",
              "    }\n",
              "    90% {\n",
              "      border-color: transparent;\n",
              "      border-bottom-color: var(--fill-color);\n",
              "    }\n",
              "  }\n",
              "</style>\n",
              "\n",
              "  <script>\n",
              "    async function quickchart(key) {\n",
              "      const quickchartButtonEl =\n",
              "        document.querySelector('#' + key + ' button');\n",
              "      quickchartButtonEl.disabled = true;  // To prevent multiple clicks.\n",
              "      quickchartButtonEl.classList.add('colab-df-spinner');\n",
              "      try {\n",
              "        const charts = await google.colab.kernel.invokeFunction(\n",
              "            'suggestCharts', [key], {});\n",
              "      } catch (error) {\n",
              "        console.error('Error during call to suggestCharts:', error);\n",
              "      }\n",
              "      quickchartButtonEl.classList.remove('colab-df-spinner');\n",
              "      quickchartButtonEl.classList.add('colab-df-quickchart-complete');\n",
              "    }\n",
              "    (() => {\n",
              "      let quickchartButtonEl =\n",
              "        document.querySelector('#df-febc448a-8941-4ecd-81c3-ae2467ab376d button');\n",
              "      quickchartButtonEl.style.display =\n",
              "        google.colab.kernel.accessAllowed ? 'block' : 'none';\n",
              "    })();\n",
              "  </script>\n",
              "</div>\n",
              "\n",
              "    </div>\n",
              "  </div>\n"
            ],
            "application/vnd.google.colaboratory.intrinsic+json": {
              "type": "dataframe",
              "variable_name": "Linkedin_df",
              "summary": "{\n  \"name\": \"Linkedin_df\",\n  \"rows\": 3,\n  \"fields\": [\n    {\n      \"column\": \"Placement\",\n      \"properties\": {\n        \"dtype\": \"string\",\n        \"num_unique_values\": 3,\n        \"samples\": [\n          \"LinkedIn Ads\",\n          \"LinkedIn Messages\",\n          \"Total\"\n        ],\n        \"semantic_type\": \"\",\n        \"description\": \"\"\n      }\n    },\n    {\n      \"column\": \"Impressions\",\n      \"properties\": {\n        \"dtype\": \"string\",\n        \"num_unique_values\": 3,\n        \"samples\": [\n          \"  230,242 \",\n          \"  6,986 \",\n          \"  237,228 \"\n        ],\n        \"semantic_type\": \"\",\n        \"description\": \"\"\n      }\n    },\n    {\n      \"column\": \"Cost, $\",\n      \"properties\": {\n        \"dtype\": \"string\",\n        \"num_unique_values\": 3,\n        \"samples\": [\n          \" $ 15,281.6 \",\n          \" $ 4,500.0 \",\n          \" $ 19,781.6 \"\n        ],\n        \"semantic_type\": \"\",\n        \"description\": \"\"\n      }\n    },\n    {\n      \"column\": \"CPM, $\",\n      \"properties\": {\n        \"dtype\": \"category\",\n        \"num_unique_values\": 1,\n        \"samples\": [\n          \" $ 83.4 \"\n        ],\n        \"semantic_type\": \"\",\n        \"description\": \"\"\n      }\n    },\n    {\n      \"column\": \"Clicks\",\n      \"properties\": {\n        \"dtype\": \"number\",\n        \"std\": 1317,\n        \"min\": 1763,\n        \"max\": 4341,\n        \"num_unique_values\": 3,\n        \"samples\": [\n          1763\n        ],\n        \"semantic_type\": \"\",\n        \"description\": \"\"\n      }\n    },\n    {\n      \"column\": \"CTR\",\n      \"properties\": {\n        \"dtype\": \"category\",\n        \"num_unique_values\": 1,\n        \"samples\": [\n          \"1.83%\"\n        ],\n        \"semantic_type\": \"\",\n        \"description\": \"\"\n      }\n    },\n    {\n      \"column\": \"CPC\",\n      \"properties\": {\n        \"dtype\": \"category\",\n        \"num_unique_values\": 1,\n        \"samples\": [\n          \" $ 4.56 \"\n        ],\n        \"semantic_type\": \"\",\n        \"description\": \"\"\n      }\n    },\n    {\n      \"column\": \"Leads\",\n      \"properties\": {\n        \"dtype\": \"number\",\n        \"std\": 28,\n        \"min\": 7,\n        \"max\": 59,\n        \"num_unique_values\": 3,\n        \"samples\": [\n          52\n        ],\n        \"semantic_type\": \"\",\n        \"description\": \"\"\n      }\n    },\n    {\n      \"column\": \"CR %\",\n      \"properties\": {\n        \"dtype\": \"category\",\n        \"num_unique_values\": 1,\n        \"samples\": [\n          \"1.36%\"\n        ],\n        \"semantic_type\": \"\",\n        \"description\": \"\"\n      }\n    },\n    {\n      \"column\": \"CPA, $\",\n      \"properties\": {\n        \"dtype\": \"category\",\n        \"num_unique_values\": 1,\n        \"samples\": [\n          \" $ 335.3 \"\n        ],\n        \"semantic_type\": \"\",\n        \"description\": \"\"\n      }\n    }\n  ]\n}"
            }
          },
          "metadata": {},
          "execution_count": 4
        }
      ]
    },
    {
      "cell_type": "markdown",
      "source": [
        "##Question 1: Campaign Performance vs. Benchmarks"
      ],
      "metadata": {
        "id": "wzsqg5Ccfk6E"
      }
    },
    {
      "cell_type": "markdown",
      "source": [
        "###Calculate CTR (Click-Through-Rate)"
      ],
      "metadata": {
        "id": "43p6ezdwo3n6"
      }
    },
    {
      "cell_type": "code",
      "source": [
        "# Formula: CTR = (Clicks / Impressions) * 100"
      ],
      "metadata": {
        "id": "oZ6b0gJJsKfi"
      },
      "execution_count": 5,
      "outputs": []
    },
    {
      "cell_type": "code",
      "source": [
        "# LinkedIn Ads:\n",
        "Ads = (1763/230242) * 100\n",
        "\n",
        "# LinkedIn Messages:\n",
        "Messages = (2578/6986) * 100\n",
        "Ads, Messages"
      ],
      "metadata": {
        "colab": {
          "base_uri": "https://localhost:8080/"
        },
        "id": "SJrdYKA3myo8",
        "outputId": "0b85775b-18f7-4602-b59d-c2cc78915f05"
      },
      "execution_count": 6,
      "outputs": [
        {
          "output_type": "execute_result",
          "data": {
            "text/plain": [
              "(0.7657160726539902, 36.902376180933295)"
            ]
          },
          "metadata": {},
          "execution_count": 6
        }
      ]
    },
    {
      "cell_type": "markdown",
      "source": [
        "LinkedIn Messages overperforms by **36.90%**, while LinkedIn Ads is underperforming by **0.77%**.\n"
      ],
      "metadata": {
        "id": "06Xq29HX1N5D"
      }
    },
    {
      "cell_type": "markdown",
      "source": [
        "### Calculate CPC (Cost-Per-Conversion)"
      ],
      "metadata": {
        "id": "KadaD_a4qNrP"
      }
    },
    {
      "cell_type": "code",
      "source": [
        "# Formula: CPC = (Cost / Clicks)"
      ],
      "metadata": {
        "id": "opX2Ao2hsFM7"
      },
      "execution_count": 7,
      "outputs": []
    },
    {
      "cell_type": "code",
      "source": [
        "# LinkedIn Ads:\n",
        "Ads = (15281.57/1763)\n",
        "\n",
        "# LinkedIn Messages:\n",
        "Messages = (4500/2578)\n",
        "Ads, Messages"
      ],
      "metadata": {
        "colab": {
          "base_uri": "https://localhost:8080/"
        },
        "id": "5pzOwHs1qRdG",
        "outputId": "1b4d4899-656e-46a1-be2e-1566cbc4c803"
      },
      "execution_count": 8,
      "outputs": [
        {
          "output_type": "execute_result",
          "data": {
            "text/plain": [
              "(8.66793533749291, 1.7455391776570985)"
            ]
          },
          "metadata": {},
          "execution_count": 8
        }
      ]
    },
    {
      "cell_type": "markdown",
      "source": [
        "LinkedIn Messages is more cost efficient by **$1.75**, while LinkedIn Ads has a cost of **\\$8.67%**, which is too expensive for any campaign.\n"
      ],
      "metadata": {
        "id": "i1dErrPq1xmO"
      }
    },
    {
      "cell_type": "markdown",
      "source": [
        "### Calculate CR (Conversion Rate)"
      ],
      "metadata": {
        "id": "_IK1zMShqbax"
      }
    },
    {
      "cell_type": "code",
      "source": [
        "# Formula: CR = (Leads / Clicks) * 100"
      ],
      "metadata": {
        "id": "IetKciMHua7q"
      },
      "execution_count": 9,
      "outputs": []
    },
    {
      "cell_type": "code",
      "source": [
        "# LinkedIn Ads:\n",
        "Ads = (52/1763) * 100\n",
        "\n",
        "# LinkedIn Messages:\n",
        "Messages = (7/2578) * 100\n",
        "Ads, Messages"
      ],
      "metadata": {
        "colab": {
          "base_uri": "https://localhost:8080/"
        },
        "id": "Ujrm0K52qbw5",
        "outputId": "3ce71dfd-c384-4b60-9726-47d7b7bc4533"
      },
      "execution_count": 10,
      "outputs": [
        {
          "output_type": "execute_result",
          "data": {
            "text/plain": [
              "(2.949517867271696, 0.27152831652443754)"
            ]
          },
          "metadata": {},
          "execution_count": 10
        }
      ]
    },
    {
      "cell_type": "markdown",
      "source": [
        "LinkedIn Ads generates a **2.95%** conversion rate, outperforming LinkedIn Messages’ **0.27%** conversion rate. However, both rates fall short of the industry benchmark of **5%**.\n",
        "\n"
      ],
      "metadata": {
        "id": "wfVBKj4J2dDi"
      }
    },
    {
      "cell_type": "markdown",
      "source": [
        "##Question 2: Best Placement in Terms of CR and CPA"
      ],
      "metadata": {
        "id": "pZ_V9a77qzfk"
      }
    },
    {
      "cell_type": "markdown",
      "source": [
        "### Calculating CPA (Cost-Per-Acquisition)"
      ],
      "metadata": {
        "id": "Wgzd5IJrrDCx"
      }
    },
    {
      "cell_type": "code",
      "source": [
        "# Formula: CPA = Cost / Leads"
      ],
      "metadata": {
        "id": "KfHThTQXuHNK"
      },
      "execution_count": 11,
      "outputs": []
    },
    {
      "cell_type": "code",
      "source": [
        "# LinkedIn Ads:\n",
        "Ads = (15281.57/52) * 100\n",
        "\n",
        "# LinkedIn Messages:\n",
        "Messages = (4500/7) * 100\n",
        "Ads, Messages"
      ],
      "metadata": {
        "colab": {
          "base_uri": "https://localhost:8080/"
        },
        "id": "0S-2RlKFrCku",
        "outputId": "9b166831-5c15-4511-bde6-de02cba50896"
      },
      "execution_count": 12,
      "outputs": [
        {
          "output_type": "execute_result",
          "data": {
            "text/plain": [
              "(29387.634615384617, 64285.71428571429)"
            ]
          },
          "metadata": {},
          "execution_count": 12
        }
      ]
    },
    {
      "cell_type": "markdown",
      "source": [
        "Since **LinkeIn Ads has lower CPA and higher CR**, it is the better-performing placement."
      ],
      "metadata": {
        "id": "SbDRc6oZrRdA"
      }
    },
    {
      "cell_type": "markdown",
      "source": [
        "##Question 3: Additional Leads from Budget Reallocation"
      ],
      "metadata": {
        "id": "iIlzEHO2rbfH"
      }
    },
    {
      "cell_type": "markdown",
      "source": [
        "#### New Leads = (Cost of Worst-performaning channel / CPA of best-performing channel) - Exisiting Leads from Worst-performing channel"
      ],
      "metadata": {
        "id": "Jh4RARaZrku_"
      }
    },
    {
      "cell_type": "code",
      "source": [
        "(4500 / 293.88) - 7"
      ],
      "metadata": {
        "colab": {
          "base_uri": "https://localhost:8080/"
        },
        "id": "ejRS-fAgrj8w",
        "outputId": "d24b629a-f3da-470b-aa08-57e7e78be604"
      },
      "execution_count": 13,
      "outputs": [
        {
          "output_type": "execute_result",
          "data": {
            "text/plain": [
              "8.312372396896693"
            ]
          },
          "metadata": {},
          "execution_count": 13
        }
      ]
    },
    {
      "cell_type": "markdown",
      "source": [
        "**8.31** additonal Leads from budget allocation"
      ],
      "metadata": {
        "id": "gDaK9mSOsD_F"
      }
    },
    {
      "cell_type": "markdown",
      "source": [
        "##Summary\n",
        "* CTR: LinkedIn Messages (**36.90%**) overperforms, while LinkedIn Ads (**0.77%**) underperforms.\n",
        "\n",
        "* CPC: LinkedIn Messages (**\\$1.75**) is more cost-efficient than LinkedIn Ads (**$8.67**).\n",
        "\n",
        "* CR: LinkedIn Ads (**2.95%**) is better than LinkedIn Messages (**0.27%**) but still below the benchmark (**5%**).\n",
        "\n",
        "* CPA: LinkedIn Ads (**\\$293.88**) is more efficient than LinkedIn Messages (**\\$642.86**).\n",
        "\n",
        "Reallocating funds from LinkedIn Messages to LinkedIn Ads could **result in 8 additional leads.**"
      ],
      "metadata": {
        "id": "WKCKy8dNsMHr"
      }
    }
  ]
}