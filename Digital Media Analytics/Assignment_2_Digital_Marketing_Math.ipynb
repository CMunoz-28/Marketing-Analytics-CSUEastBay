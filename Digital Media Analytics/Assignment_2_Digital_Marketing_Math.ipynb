{
  "nbformat": 4,
  "nbformat_minor": 0,
  "metadata": {
    "colab": {
      "provenance": []
    },
    "kernelspec": {
      "name": "python3",
      "display_name": "Python 3"
    },
    "language_info": {
      "name": "python"
    }
  },
  "cells": [
    {
      "cell_type": "markdown",
      "source": [
        "# Assignment: Digital Marketing Math Part 2\n",
        "\n",
        "### Perform step-by-step mathematical calculation to determine ROAS.\n",
        "\n",
        "#### Dataset: Provided by Professor [Ivan Fedorenko](https://www.csueastbay.edu/directory/profiles/mktg/fedorenkoivan.html) | Digital Media Analytics - California State University, East Bay\n"
      ],
      "metadata": {
        "id": "D7MEPcbgeliI"
      }
    },
    {
      "cell_type": "markdown",
      "source": [
        "## Objective\n",
        "* You are a marketer at a financial services firm.\n",
        "* You want to choose between two ad placements offered by a new publisher on their app.\n",
        "* Each ad generates leads worth about **$60** each.\n",
        "* Use the information provided to:\n",
        "    * Compare the financial efficiency of the two placements by calculating their return on ad spend (ROAS%).\n",
        "    * Decide which ad placement to buy based on this comparison."
      ],
      "metadata": {
        "id": "OAjZlCFg6Jqa"
      }
    },
    {
      "cell_type": "markdown",
      "source": [
        "###Given data:\n",
        "\n",
        "* CTR A = **.003 (0.3%)**\n",
        "\n",
        "* CTR B = **.004 (0.4%)**\n",
        "\n",
        "* Impressions A = **2,000,000 (2M impressions)**\n",
        "\n",
        "* Impressions B = **3,000,000 (3M impressions)**\n",
        "\n",
        "* CPM A = **5.5 (\\$5.50 Cost Per Mile)**\n",
        "* CPM B = **6.0 ($6.00 Cost Per Mile)**\n",
        "\n",
        "* Conversion rate = **0.07 (7%)**\n",
        "\n",
        "* Revenue Per Lead (RPL) = **$60.00**"
      ],
      "metadata": {
        "id": "RhbiM_TuetDy"
      }
    },
    {
      "cell_type": "markdown",
      "source": [
        "##Formula Breakdown"
      ],
      "metadata": {
        "id": "wzsqg5Ccfk6E"
      }
    },
    {
      "cell_type": "code",
      "source": [
        "# Step 1: Calculate Clicks\n",
        "  # Clicks A = impressions A * CTR A\n",
        "  # Clicks B = impressions A * CTR B\n",
        "\n",
        "# Step 2: Calculate Leads\n",
        "  # Leads A = Clicks A * Conversion rate\n",
        "  # Leads B = Clicks B * Conversion rate\n",
        "\n",
        "# Step 3: Calculate Revenue\n",
        "  # Revenue A = Leads A * RPL\n",
        "  # Revenue B = Leads B * RPL\n",
        "\n",
        "# Step 4: Calculate Ad Cost\n",
        "  # Cost A = (Impressions A / 1000) * CPM A\n",
        "  # Cost B = (Impressions B / 1000) * CPM B\n",
        "\n",
        "# # Step 5: Calculate ROAS (%)\n",
        "  # ROAS A = (Revenue A / Cost A) * 100\n",
        "  # ROAS B = (Revenue B / Cost B) * 100"
      ],
      "metadata": {
        "id": "Aie2AfoDemwb"
      },
      "execution_count": null,
      "outputs": []
    },
    {
      "cell_type": "markdown",
      "source": [
        "## Mathematical Calculations:"
      ],
      "metadata": {
        "id": "aWFxt-Lihb8B"
      }
    },
    {
      "cell_type": "code",
      "execution_count": null,
      "metadata": {
        "colab": {
          "base_uri": "https://localhost:8080/"
        },
        "id": "5DT1BlvXeelu",
        "outputId": "a68443e0-afdf-4085-dd89-23a759e3e239"
      },
      "outputs": [
        {
          "output_type": "execute_result",
          "data": {
            "text/plain": [
              "(6000.0, 12000.0)"
            ]
          },
          "metadata": {},
          "execution_count": 2
        }
      ],
      "source": [
        "# Step 1: Calculate Clicks\n",
        "clicks_a = 2000000 * 0.003\n",
        "clicks_b = 3000000 * 0.004\n",
        "\n",
        "clicks_a, clicks_b"
      ]
    },
    {
      "cell_type": "code",
      "source": [
        "# Step 2: Calculate Leads\n",
        "leads_a = clicks_a * 0.07\n",
        "leads_b = clicks_b * 0.07\n",
        "\n",
        "leads_a, leads_b"
      ],
      "metadata": {
        "colab": {
          "base_uri": "https://localhost:8080/"
        },
        "id": "jZ8MOTrPhe4D",
        "outputId": "1b995297-54fb-493b-f416-a495936713a3"
      },
      "execution_count": null,
      "outputs": [
        {
          "output_type": "execute_result",
          "data": {
            "text/plain": [
              "(420.00000000000006, 840.0000000000001)"
            ]
          },
          "metadata": {},
          "execution_count": 3
        }
      ]
    },
    {
      "cell_type": "code",
      "source": [
        "# Step 3: Calculate Revenue\n",
        "revenue_a = leads_a * 60\n",
        "revenue_b = leads_b * 60\n",
        "\n",
        "revenue_a, revenue_b"
      ],
      "metadata": {
        "colab": {
          "base_uri": "https://localhost:8080/"
        },
        "id": "nZJfqqyohfKD",
        "outputId": "562a22d7-48a4-45ea-b8f8-2b578d143191"
      },
      "execution_count": null,
      "outputs": [
        {
          "output_type": "execute_result",
          "data": {
            "text/plain": [
              "(25200.000000000004, 50400.00000000001)"
            ]
          },
          "metadata": {},
          "execution_count": 4
        }
      ]
    },
    {
      "cell_type": "code",
      "source": [
        "# Step 4: Calculate Ad Cost\n",
        "cost_a = (2000000 / 1000) * 5.5\n",
        "cost_b = (3000000 / 1000) * 6.0\n",
        "\n",
        "cost_a, cost_b"
      ],
      "metadata": {
        "colab": {
          "base_uri": "https://localhost:8080/"
        },
        "id": "lc0wCsGEhfdF",
        "outputId": "5a967061-ad78-48d2-d462-47c2b57a29eb"
      },
      "execution_count": null,
      "outputs": [
        {
          "output_type": "execute_result",
          "data": {
            "text/plain": [
              "(11000.0, 18000.0)"
            ]
          },
          "metadata": {},
          "execution_count": 8
        }
      ]
    },
    {
      "cell_type": "code",
      "source": [
        "#Step 5: Calculate ROAS (Return on Ads Spend)\n",
        "roas_a = (revenue_a / cost_a) * 100\n",
        "roas_b = (revenue_b / cost_b) * 100\n",
        "\n",
        "roas_a, roas_b"
      ],
      "metadata": {
        "colab": {
          "base_uri": "https://localhost:8080/"
        },
        "id": "iA9swTDPhfqG",
        "outputId": "84c620a1-d4c2-414b-df8c-c25a42219a0f"
      },
      "execution_count": null,
      "outputs": [
        {
          "output_type": "execute_result",
          "data": {
            "text/plain": [
              "(229.09090909090915, 280.0)"
            ]
          },
          "metadata": {},
          "execution_count": 6
        }
      ]
    },
    {
      "cell_type": "markdown",
      "source": [
        "## Recommendation:\n",
        "Since **Placement B** has a higher ROAS (**280%**) compared to Placement A (229.1%), **Placement B** is the **better investment** for ad placement."
      ],
      "metadata": {
        "id": "YTy1WDMrisOr"
      }
    }
  ]
}